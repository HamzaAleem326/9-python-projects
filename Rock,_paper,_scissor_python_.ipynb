{
  "nbformat": 4,
  "nbformat_minor": 0,
  "metadata": {
    "colab": {
      "provenance": [],
      "authorship_tag": "ABX9TyP/B3VBezgnswSjlSGo4/Bl",
      "include_colab_link": true
    },
    "kernelspec": {
      "name": "python3",
      "display_name": "Python 3"
    },
    "language_info": {
      "name": "python"
    }
  },
  "cells": [
    {
      "cell_type": "markdown",
      "metadata": {
        "id": "view-in-github",
        "colab_type": "text"
      },
      "source": [
        "<a href=\"https://colab.research.google.com/github/HamzaAleem326/9-python-projects/blob/main/Rock%2C_paper%2C_scissor_python_.ipynb\" target=\"_parent\"><img src=\"https://colab.research.google.com/assets/colab-badge.svg\" alt=\"Open In Colab\"/></a>"
      ]
    },
    {
      "cell_type": "code",
      "execution_count": null,
      "metadata": {
        "id": "DTUSy2xzXxu3"
      },
      "outputs": [],
      "source": [
        "# I found a simpler and more efficient way to do it:\n",
        "# Basically instead of of making three individual if statements\n",
        "#  to check the win condition, I added a second tuple after that's ordered like this:\n",
        "options = (\"rock\", \"paper\", \"scissors\")\n",
        "winning = (\"scissors\", \"rock\", \"paper\")\n",
        "# so that I don't need to check any win conditions, I just need to check that the index of player\n",
        "# choice in the options is the same as the index of computer's choice in winning tuple, if they are the player wins.\n",
        "# Also, I added .lower() right after input so that SCISSORS will work as well as scissors\n",
        "\n",
        "import random\n",
        "\n",
        "options = (\"rock\", \"paper\", \"scissors\")\n",
        "winning = (\"scissors\", \"rock\", \"paper\")\n",
        "running = True\n",
        "\n",
        "while running:\n",
        "\n",
        "    player = None\n",
        "    computer = random.choice(options)\n",
        "\n",
        "    while player not in options:\n",
        "        player = input(\"Enter a choice (rock, paper, scissors): \").lower()\n",
        "\n",
        "    print(f\"Player: {player}\")\n",
        "    print(f\"Computer: {computer}\")\n",
        "\n",
        "    if player == computer:\n",
        "        print(\"It's a tie!\")\n",
        "    elif options.index(player) == winning.index(computer):\n",
        "        print(\"You win !\")\n",
        "    else:\n",
        "        print(\"You lose!\")\n",
        "\n",
        "    if not input(\"Play again? (y/n): \").lower() == \"y\":\n",
        "        running = False\n",
        "\n",
        "print(\"Thanks for playing!\")"
      ]
    }
  ]
}