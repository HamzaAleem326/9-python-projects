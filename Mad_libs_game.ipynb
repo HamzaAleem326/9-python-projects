{
  "nbformat": 4,
  "nbformat_minor": 0,
  "metadata": {
    "colab": {
      "provenance": [],
      "authorship_tag": "ABX9TyNsOPlHqcMhwSdjXD5Fn28i",
      "include_colab_link": true
    },
    "kernelspec": {
      "name": "python3",
      "display_name": "Python 3"
    },
    "language_info": {
      "name": "python"
    }
  },
  "cells": [
    {
      "cell_type": "markdown",
      "metadata": {
        "id": "view-in-github",
        "colab_type": "text"
      },
      "source": [
        "<a href=\"https://colab.research.google.com/github/HamzaAleem326/9-python-projects/blob/main/Mad_libs_game.ipynb\" target=\"_parent\"><img src=\"https://colab.research.google.com/assets/colab-badge.svg\" alt=\"Open In Colab\"/></a>"
      ]
    },
    {
      "cell_type": "markdown",
      "source": [
        "#Mad libs game"
      ],
      "metadata": {
        "id": "oUqSZOsLmbd4"
      }
    },
    {
      "cell_type": "code",
      "execution_count": null,
      "metadata": {
        "id": "E78UFOMYkAHh"
      },
      "outputs": [],
      "source": [
        "famous_person = input(\"Enter a famous person: \")\n",
        "serious_verb = input(\"Enter a serious action (like 'work', 'focus'): \")\n",
        "funny_thing = input(\"Enter a funny random thing (like 'eating chips'): \")\n",
        "\n",
        "mad_lib = f\"\"\"\n",
        "\"{famous_person} once said: 'Don't just {serious_verb} hard... also practice {funny_thing} daily.'\n",
        "Success isn’t just about hustle — it’s about snacks, naps, and pretending to be productive. 😎🍟🛌\"\n",
        "\"\"\"\n",
        "\n",
        "print(mad_lib)"
      ]
    }
  ]
}