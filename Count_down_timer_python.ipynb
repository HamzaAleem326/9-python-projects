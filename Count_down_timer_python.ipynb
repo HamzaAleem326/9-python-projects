{
  "nbformat": 4,
  "nbformat_minor": 0,
  "metadata": {
    "colab": {
      "provenance": [],
      "authorship_tag": "ABX9TyPohxn1uXAlbcGudXATP6yZ",
      "include_colab_link": true
    },
    "kernelspec": {
      "name": "python3",
      "display_name": "Python 3"
    },
    "language_info": {
      "name": "python"
    }
  },
  "cells": [
    {
      "cell_type": "markdown",
      "metadata": {
        "id": "view-in-github",
        "colab_type": "text"
      },
      "source": [
        "<a href=\"https://colab.research.google.com/github/HamzaAleem326/9-python-projects/blob/main/Count_down_timer_python.ipynb\" target=\"_parent\"><img src=\"https://colab.research.google.com/assets/colab-badge.svg\" alt=\"Open In Colab\"/></a>"
      ]
    },
    {
      "cell_type": "code",
      "source": [
        "import time\n",
        "\n",
        "countdown_time = int(input(\"Enter a time in seconds: \"))\n",
        "\n",
        "while countdown_time >= 0:\n",
        "    seconds = countdown_time % 60\n",
        "    minutes = int(countdown_time / 60) % 60\n",
        "    hours = int(countdown_time / 3600) % 24\n",
        "\n",
        "    print(f\"{hours:02}:{minutes:02}:{seconds:02}\")\n",
        "\n",
        "    time.sleep(1)\n",
        "    countdown_time -= 1\n",
        "\n",
        "print(\"Time's up!\")"
      ],
      "metadata": {
        "id": "QGn_53K1PBYO"
      },
      "execution_count": null,
      "outputs": []
    }
  ]
}