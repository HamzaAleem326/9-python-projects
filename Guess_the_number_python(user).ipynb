{
  "nbformat": 4,
  "nbformat_minor": 0,
  "metadata": {
    "colab": {
      "provenance": [],
      "authorship_tag": "ABX9TyMaTN2YstKz6s1KAkaFPD2A",
      "include_colab_link": true
    },
    "kernelspec": {
      "name": "python3",
      "display_name": "Python 3"
    },
    "language_info": {
      "name": "python"
    }
  },
  "cells": [
    {
      "cell_type": "markdown",
      "metadata": {
        "id": "view-in-github",
        "colab_type": "text"
      },
      "source": [
        "<a href=\"https://colab.research.google.com/github/HamzaAleem326/9-python-projects/blob/main/Guess_the_number_python(user).ipynb\" target=\"_parent\"><img src=\"https://colab.research.google.com/assets/colab-badge.svg\" alt=\"Open In Colab\"/></a>"
      ]
    },
    {
      "cell_type": "code",
      "execution_count": null,
      "metadata": {
        "colab": {
          "base_uri": "https://localhost:8080/"
        },
        "id": "vMbu79hnWdRB",
        "outputId": "809ccc6a-071b-4ddb-ad21-19be161ee142"
      },
      "outputs": [
        {
          "output_type": "stream",
          "name": "stdout",
          "text": [
            "Think of a number between 1 and 50. I will try to guess it!\n",
            "Press Enter when you're ready...45\n",
            "My guess is: 25\n",
            "Choose:\n",
            "1. Too Low\n",
            "2. Too High\n",
            "3. Correct\n",
            "Enter 1, 2, or 3: 1\n",
            "My guess is: 38\n",
            "Choose:\n",
            "1. Too Low\n",
            "2. Too High\n",
            "3. Correct\n",
            "Enter 1, 2, or 3: 1\n",
            "My guess is: 44\n",
            "Choose:\n",
            "1. Too Low\n",
            "2. Too High\n",
            "3. Correct\n",
            "Enter 1, 2, or 3: 1\n",
            "My guess is: 47\n",
            "Choose:\n",
            "1. Too Low\n",
            "2. Too High\n",
            "3. Correct\n",
            "Enter 1, 2, or 3: 2\n",
            "My guess is: 45\n",
            "Choose:\n",
            "1. Too Low\n",
            "2. Too High\n",
            "3. Correct\n",
            "Enter 1, 2, or 3: 3\n",
            "I guessed your number in 5 attempts!\n"
          ]
        }
      ],
      "source": [
        "low = 1\n",
        "high = 50\n",
        "attempts = 0\n",
        "\n",
        "print(\"Think of a number between 1 and 50. I will try to guess it!\")\n",
        "input(\"Press Enter when you're ready...\")\n",
        "\n",
        "while True:\n",
        "    guess = (low + high) // 2\n",
        "    attempts += 1\n",
        "    print(f\"My guess is: {guess}\")\n",
        "    print(\"Choose:\")\n",
        "    print(\"1. Too Low\")\n",
        "    print(\"2. Too High\")\n",
        "    print(\"3. Correct\")\n",
        "\n",
        "    choice = input(\"Enter 1, 2, or 3: \")\n",
        "\n",
        "    if choice == '1':\n",
        "        low = guess + 1\n",
        "    elif choice == '2':\n",
        "        high = guess - 1\n",
        "    elif choice == '3':\n",
        "        print(f\"I guessed your number in {attempts} attempts!\")\n",
        "        break\n",
        "    else:\n",
        "        print(\"Invalid input. Try again.\")\n"
      ]
    }
  ]
}