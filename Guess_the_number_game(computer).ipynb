{
  "nbformat": 4,
  "nbformat_minor": 0,
  "metadata": {
    "colab": {
      "provenance": [],
      "authorship_tag": "ABX9TyNFEQumDbax1pC5LvHQKdMP",
      "include_colab_link": true
    },
    "kernelspec": {
      "name": "python3",
      "display_name": "Python 3"
    },
    "language_info": {
      "name": "python"
    }
  },
  "cells": [
    {
      "cell_type": "markdown",
      "metadata": {
        "id": "view-in-github",
        "colab_type": "text"
      },
      "source": [
        "<a href=\"https://colab.research.google.com/github/HamzaAleem326/9-python-projects/blob/main/Guess_the_number_game(computer).ipynb\" target=\"_parent\"><img src=\"https://colab.research.google.com/assets/colab-badge.svg\" alt=\"Open In Colab\"/></a>"
      ]
    },
    {
      "cell_type": "code",
      "execution_count": null,
      "metadata": {
        "colab": {
          "base_uri": "https://localhost:8080/"
        },
        "id": "uD0Rn6Dm3sUp",
        "outputId": "3444b198-79eb-4de9-e3b4-3da8bd426ece"
      },
      "outputs": [
        {
          "output_type": "stream",
          "name": "stdout",
          "text": [
            "Guess a number between 1 and 50: 45\n",
            "Too low\n",
            "Guess a number between 1 and 50: 47\n",
            "You won! You guessed the number in 2 attempts.\n"
          ]
        }
      ],
      "source": [
        "import random\n",
        "secret = random.randint(1, 50)\n",
        "attempts = 0\n",
        "\n",
        "while True:\n",
        "    guess = int(input(\"Guess a number between 1 and 50: \"))\n",
        "    attempts += 1\n",
        "\n",
        "    if secret > guess:\n",
        "        print('Too low')\n",
        "    elif secret < guess:\n",
        "        print('Too high')\n",
        "    else:\n",
        "        print(f'You won! You guessed the number in {attempts} attempts.')\n",
        "        break"
      ]
    }
  ]
}